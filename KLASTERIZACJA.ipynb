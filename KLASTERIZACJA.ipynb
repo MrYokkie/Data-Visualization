{
  "cells": [
    {
      "cell_type": "code",
      "execution_count": null,
      "metadata": {
        "id": "wLL2YthqcfRl"
      },
      "outputs": [],
      "source": [
        "import pandas as pd\n",
        "from scipy.spatial.distance import pdist\n",
        "from scipy.cluster.hierarchy import *\n",
        "from matplotlib import pyplot as plt\n",
        "from matplotlib import rc\n",
        "import numpy as np\n",
        "from sklearn.cluster import KMeans\n",
        "import seaborn as sns\n",
        "from scipy.cluster.hierarchy import dendrogram, linkage\n",
        "from scipy.cluster import hierarchy"
      ]
    },
    {
      "cell_type": "code",
      "execution_count": null,
      "metadata": {
        "colab": {
          "base_uri": "https://localhost:8080/"
        },
        "id": "zNJElhOw0-76",
        "outputId": "040356ac-5895-4348-cba6-fd72c3795bc7"
      },
      "outputs": [
        {
          "data": {
            "text/plain": [
              "<pandas.io.excel._base.ExcelFile at 0x7fe3678067d0>"
            ]
          },
          "execution_count": 2,
          "metadata": {
            "tags": []
          },
          "output_type": "execute_result"
        }
      ],
      "source": [
        "xl1 = pd.ExcelFile('1.xlsx')\n",
        "xl2 = pd.ExcelFile('2.xlsx') #!!!!!! измените имя файла и название рабочего листа\n",
        "xl1 #эта команда выведет пять случайных строк таблицы, таблица не отобразиться полностью.\n",
        "xl2"
      ]
    },
    {
      "cell_type": "code",
      "execution_count": null,
      "metadata": {
        "colab": {
          "base_uri": "https://localhost:8080/"
        },
        "id": "2y0mrVdQ1F8x",
        "outputId": "9d07d857-ebf1-44b6-9209-481e6c943887"
      },
      "outputs": [
        {
          "data": {
            "text/plain": [
              "['Arkusz1']"
            ]
          },
          "execution_count": 3,
          "metadata": {
            "tags": []
          },
          "output_type": "execute_result"
        }
      ],
      "source": [
        "xl1.sheet_names"
      ]
    },
    {
      "cell_type": "code",
      "execution_count": null,
      "metadata": {
        "colab": {
          "base_uri": "https://localhost:8080/"
        },
        "id": "JKu65lBsoMH7",
        "outputId": "a6f9da33-94c5-45eb-c564-c091d77c6da3"
      },
      "outputs": [
        {
          "data": {
            "text/plain": [
              "['Arkusz1', 'Arkusz2']"
            ]
          },
          "execution_count": 4,
          "metadata": {
            "tags": []
          },
          "output_type": "execute_result"
        }
      ],
      "source": [
        "xl2.sheet_names"
      ]
    },
    {
      "cell_type": "code",
      "execution_count": null,
      "metadata": {
        "colab": {
          "base_uri": "https://localhost:8080/"
        },
        "id": "2bXtEAFX1-FD",
        "outputId": "34348449-830c-4862-be34-6d2e0ba55146"
      },
      "outputs": [
        {
          "data": {
            "text/plain": [
              "Index(['połoczenia inhibitor betalaktamazy/ penicylina',\n",
              "       'cefalosporyny 3 generacji', 'karbapenemy', 'aminoglikozydy',\n",
              "       'fluorochinolony', 'sulfonamidy', 'tetracykliny', 'biofilm RT',\n",
              "       'biofilm 37C', 'swimming RT', 'swimming 37C', 'swarming RT',\n",
              "       'swarming 37C'],\n",
              "      dtype='object')"
            ]
          },
          "execution_count": 5,
          "metadata": {
            "tags": []
          },
          "output_type": "execute_result"
        }
      ],
      "source": [
        "df = xl1.parse('Arkusz1') #wkinut tot sheet w dataframe\n",
        "df.columns"
      ]
    },
    {
      "cell_type": "code",
      "execution_count": null,
      "metadata": {
        "colab": {
          "base_uri": "https://localhost:8080/"
        },
        "id": "KOFtrQdEoPea",
        "outputId": "d2aa76e4-3137-420f-b31a-dca4041f32a2"
      },
      "outputs": [
        {
          "data": {
            "text/plain": [
              "Index(['biofilm RT', 'biofilm 37C', 'swimming RT', 'swimming 37C',\n",
              "       'swarming RT', 'swarming 37C', 'AMC', 'TZP', 'CXM', 'CTX', 'CAZ', 'FEP',\n",
              "       'IPM', 'MEM', 'ETP', 'AMK', 'CN', 'CIP', 'SXT', 'TGC', 'FOX'],\n",
              "      dtype='object')"
            ]
          },
          "execution_count": 6,
          "metadata": {
            "tags": []
          },
          "output_type": "execute_result"
        }
      ],
      "source": [
        "df1 = xl2.parse('Arkusz2') #wkinut tot sheet w dataframe\n",
        "df1.columns"
      ]
    },
    {
      "cell_type": "code",
      "execution_count": null,
      "metadata": {
        "id": "8H5JGpyP2T_i"
      },
      "outputs": [],
      "source": [
        "# !!!!!! укажите количественные (int, float) столбцы, по которым выполним кластеризацию\n",
        "col1=['połoczenia inhibitor betalaktamazy/ penicylina', 'cefalosporyny 3 generacji','karbapenemy','aminoglikozydy','fluorochinolony', 'sulfonamidy', 'tetracykliny', 'biofilm RT','biofilm 37C', 'swimming RT', 'swimming 37C', 'swarming RT',\n",
        "       'swarming 37C']\n",
        "col2=[ 'biofilm RT', 'biofilm 37C', 'swimming RT',\n",
        "       'swimming 37C', 'swarming RT', 'swarming 37C', 'AMC', 'TZP',\n",
        "       'CXM', 'CTX', 'CAZ', 'FEP', 'IPM', 'MEM', 'ETP', 'AMK', 'CN', 'CIP',\n",
        "       'SXT', 'TGC', 'FOX']"
      ]
    },
    {
      "cell_type": "code",
      "execution_count": null,
      "metadata": {
        "id": "rP4QWER-278y"
      },
      "outputs": [],
      "source": [
        "pd.options.mode.chained_assignment = None \n",
        "df[col1].fillna(0, inplace=True) # заменим пропуски данных нулями, в противном случае выдаст ошибку\n",
        "pd.options.mode.chained_assignment = None \n",
        "df1[col2].fillna(0, inplace=True) # заменим пропуски данных нулями, в противном случае выдаст ошибку"
      ]
    },
    {
      "cell_type": "code",
      "execution_count": null,
      "metadata": {
        "colab": {
          "base_uri": "https://localhost:8080/",
          "height": 579
        },
        "id": "pid9sMiF3NPq",
        "outputId": "72450e91-6f43-4dcd-ed6b-204c05ad8d82"
      },
      "outputs": [
        {
          "data": {
            "text/html": [
              "<div>\n",
              "<style scoped>\n",
              "    .dataframe tbody tr th:only-of-type {\n",
              "        vertical-align: middle;\n",
              "    }\n",
              "\n",
              "    .dataframe tbody tr th {\n",
              "        vertical-align: top;\n",
              "    }\n",
              "\n",
              "    .dataframe thead th {\n",
              "        text-align: right;\n",
              "    }\n",
              "</style>\n",
              "<table border=\"1\" class=\"dataframe\">\n",
              "  <thead>\n",
              "    <tr style=\"text-align: right;\">\n",
              "      <th></th>\n",
              "      <th>połoczenia inhibitor betalaktamazy/ penicylina</th>\n",
              "      <th>cefalosporyny 3 generacji</th>\n",
              "      <th>karbapenemy</th>\n",
              "      <th>aminoglikozydy</th>\n",
              "      <th>fluorochinolony</th>\n",
              "      <th>sulfonamidy</th>\n",
              "      <th>tetracykliny</th>\n",
              "      <th>biofilm RT</th>\n",
              "      <th>biofilm 37C</th>\n",
              "      <th>swimming RT</th>\n",
              "      <th>swimming 37C</th>\n",
              "      <th>swarming RT</th>\n",
              "      <th>swarming 37C</th>\n",
              "    </tr>\n",
              "  </thead>\n",
              "  <tbody>\n",
              "    <tr>\n",
              "      <th>połoczenia inhibitor betalaktamazy/ penicylina</th>\n",
              "      <td>1.000000</td>\n",
              "      <td>0.265227</td>\n",
              "      <td>0.247594</td>\n",
              "      <td>0.074887</td>\n",
              "      <td>0.047946</td>\n",
              "      <td>0.079293</td>\n",
              "      <td>-0.078008</td>\n",
              "      <td>0.175850</td>\n",
              "      <td>0.318151</td>\n",
              "      <td>0.090670</td>\n",
              "      <td>0.042810</td>\n",
              "      <td>0.351003</td>\n",
              "      <td>0.329886</td>\n",
              "    </tr>\n",
              "    <tr>\n",
              "      <th>cefalosporyny 3 generacji</th>\n",
              "      <td>0.265227</td>\n",
              "      <td>1.000000</td>\n",
              "      <td>0.046829</td>\n",
              "      <td>0.329634</td>\n",
              "      <td>0.453423</td>\n",
              "      <td>0.408678</td>\n",
              "      <td>-0.186886</td>\n",
              "      <td>-0.020300</td>\n",
              "      <td>0.226121</td>\n",
              "      <td>-0.288182</td>\n",
              "      <td>0.257358</td>\n",
              "      <td>-0.143021</td>\n",
              "      <td>-0.229528</td>\n",
              "    </tr>\n",
              "    <tr>\n",
              "      <th>karbapenemy</th>\n",
              "      <td>0.247594</td>\n",
              "      <td>0.046829</td>\n",
              "      <td>1.000000</td>\n",
              "      <td>0.109985</td>\n",
              "      <td>-0.077460</td>\n",
              "      <td>-0.053376</td>\n",
              "      <td>-0.070014</td>\n",
              "      <td>0.034785</td>\n",
              "      <td>0.281003</td>\n",
              "      <td>0.053855</td>\n",
              "      <td>-0.115821</td>\n",
              "      <td>-0.037856</td>\n",
              "      <td>0.024576</td>\n",
              "    </tr>\n",
              "    <tr>\n",
              "      <th>aminoglikozydy</th>\n",
              "      <td>0.074887</td>\n",
              "      <td>0.329634</td>\n",
              "      <td>0.109985</td>\n",
              "      <td>1.000000</td>\n",
              "      <td>0.567962</td>\n",
              "      <td>0.610541</td>\n",
              "      <td>-0.061604</td>\n",
              "      <td>-0.027019</td>\n",
              "      <td>0.413055</td>\n",
              "      <td>-0.329036</td>\n",
              "      <td>0.161634</td>\n",
              "      <td>-0.033309</td>\n",
              "      <td>-0.073590</td>\n",
              "    </tr>\n",
              "    <tr>\n",
              "      <th>fluorochinolony</th>\n",
              "      <td>0.047946</td>\n",
              "      <td>0.453423</td>\n",
              "      <td>-0.077460</td>\n",
              "      <td>0.567962</td>\n",
              "      <td>1.000000</td>\n",
              "      <td>0.785553</td>\n",
              "      <td>-0.108465</td>\n",
              "      <td>-0.214500</td>\n",
              "      <td>0.225307</td>\n",
              "      <td>-0.307863</td>\n",
              "      <td>0.173684</td>\n",
              "      <td>-0.062671</td>\n",
              "      <td>-0.142942</td>\n",
              "    </tr>\n",
              "    <tr>\n",
              "      <th>sulfonamidy</th>\n",
              "      <td>0.079293</td>\n",
              "      <td>0.408678</td>\n",
              "      <td>-0.053376</td>\n",
              "      <td>0.610541</td>\n",
              "      <td>0.785553</td>\n",
              "      <td>1.000000</td>\n",
              "      <td>-0.100901</td>\n",
              "      <td>-0.120898</td>\n",
              "      <td>0.252569</td>\n",
              "      <td>-0.309097</td>\n",
              "      <td>0.289043</td>\n",
              "      <td>0.344811</td>\n",
              "      <td>0.257864</td>\n",
              "    </tr>\n",
              "    <tr>\n",
              "      <th>tetracykliny</th>\n",
              "      <td>-0.078008</td>\n",
              "      <td>-0.186886</td>\n",
              "      <td>-0.070014</td>\n",
              "      <td>-0.061604</td>\n",
              "      <td>-0.108465</td>\n",
              "      <td>-0.100901</td>\n",
              "      <td>1.000000</td>\n",
              "      <td>-0.002838</td>\n",
              "      <td>0.091679</td>\n",
              "      <td>0.188447</td>\n",
              "      <td>-0.146112</td>\n",
              "      <td>-0.054101</td>\n",
              "      <td>-0.033192</td>\n",
              "    </tr>\n",
              "    <tr>\n",
              "      <th>biofilm RT</th>\n",
              "      <td>0.175850</td>\n",
              "      <td>-0.020300</td>\n",
              "      <td>0.034785</td>\n",
              "      <td>-0.027019</td>\n",
              "      <td>-0.214500</td>\n",
              "      <td>-0.120898</td>\n",
              "      <td>-0.002838</td>\n",
              "      <td>1.000000</td>\n",
              "      <td>0.489589</td>\n",
              "      <td>0.056328</td>\n",
              "      <td>0.054741</td>\n",
              "      <td>0.151666</td>\n",
              "      <td>0.266959</td>\n",
              "    </tr>\n",
              "    <tr>\n",
              "      <th>biofilm 37C</th>\n",
              "      <td>0.318151</td>\n",
              "      <td>0.226121</td>\n",
              "      <td>0.281003</td>\n",
              "      <td>0.413055</td>\n",
              "      <td>0.225307</td>\n",
              "      <td>0.252569</td>\n",
              "      <td>0.091679</td>\n",
              "      <td>0.489589</td>\n",
              "      <td>1.000000</td>\n",
              "      <td>-0.298067</td>\n",
              "      <td>-0.088903</td>\n",
              "      <td>-0.041561</td>\n",
              "      <td>0.017813</td>\n",
              "    </tr>\n",
              "    <tr>\n",
              "      <th>swimming RT</th>\n",
              "      <td>0.090670</td>\n",
              "      <td>-0.288182</td>\n",
              "      <td>0.053855</td>\n",
              "      <td>-0.329036</td>\n",
              "      <td>-0.307863</td>\n",
              "      <td>-0.309097</td>\n",
              "      <td>0.188447</td>\n",
              "      <td>0.056328</td>\n",
              "      <td>-0.298067</td>\n",
              "      <td>1.000000</td>\n",
              "      <td>0.266943</td>\n",
              "      <td>0.236148</td>\n",
              "      <td>0.266885</td>\n",
              "    </tr>\n",
              "    <tr>\n",
              "      <th>swimming 37C</th>\n",
              "      <td>0.042810</td>\n",
              "      <td>0.257358</td>\n",
              "      <td>-0.115821</td>\n",
              "      <td>0.161634</td>\n",
              "      <td>0.173684</td>\n",
              "      <td>0.289043</td>\n",
              "      <td>-0.146112</td>\n",
              "      <td>0.054741</td>\n",
              "      <td>-0.088903</td>\n",
              "      <td>0.266943</td>\n",
              "      <td>1.000000</td>\n",
              "      <td>0.268472</td>\n",
              "      <td>0.265794</td>\n",
              "    </tr>\n",
              "    <tr>\n",
              "      <th>swarming RT</th>\n",
              "      <td>0.351003</td>\n",
              "      <td>-0.143021</td>\n",
              "      <td>-0.037856</td>\n",
              "      <td>-0.033309</td>\n",
              "      <td>-0.062671</td>\n",
              "      <td>0.344811</td>\n",
              "      <td>-0.054101</td>\n",
              "      <td>0.151666</td>\n",
              "      <td>-0.041561</td>\n",
              "      <td>0.236148</td>\n",
              "      <td>0.268472</td>\n",
              "      <td>1.000000</td>\n",
              "      <td>0.952261</td>\n",
              "    </tr>\n",
              "    <tr>\n",
              "      <th>swarming 37C</th>\n",
              "      <td>0.329886</td>\n",
              "      <td>-0.229528</td>\n",
              "      <td>0.024576</td>\n",
              "      <td>-0.073590</td>\n",
              "      <td>-0.142942</td>\n",
              "      <td>0.257864</td>\n",
              "      <td>-0.033192</td>\n",
              "      <td>0.266959</td>\n",
              "      <td>0.017813</td>\n",
              "      <td>0.266885</td>\n",
              "      <td>0.265794</td>\n",
              "      <td>0.952261</td>\n",
              "      <td>1.000000</td>\n",
              "    </tr>\n",
              "  </tbody>\n",
              "</table>\n",
              "</div>"
            ],
            "text/plain": [
              "                                                połoczenia inhibitor betalaktamazy/ penicylina  ...  swarming 37C\n",
              "połoczenia inhibitor betalaktamazy/ penicylina                                        1.000000  ...      0.329886\n",
              "cefalosporyny 3 generacji                                                             0.265227  ...     -0.229528\n",
              "karbapenemy                                                                           0.247594  ...      0.024576\n",
              "aminoglikozydy                                                                        0.074887  ...     -0.073590\n",
              "fluorochinolony                                                                       0.047946  ...     -0.142942\n",
              "sulfonamidy                                                                           0.079293  ...      0.257864\n",
              "tetracykliny                                                                         -0.078008  ...     -0.033192\n",
              "biofilm RT                                                                            0.175850  ...      0.266959\n",
              "biofilm 37C                                                                           0.318151  ...      0.017813\n",
              "swimming RT                                                                           0.090670  ...      0.266885\n",
              "swimming 37C                                                                          0.042810  ...      0.265794\n",
              "swarming RT                                                                           0.351003  ...      0.952261\n",
              "swarming 37C                                                                          0.329886  ...      1.000000\n",
              "\n",
              "[13 rows x 13 columns]"
            ]
          },
          "execution_count": 183,
          "metadata": {
            "tags": []
          },
          "output_type": "execute_result"
        }
      ],
      "source": [
        "df[col1].corr() # посмотрим на парные корреляции"
      ]
    },
    {
      "cell_type": "markdown",
      "metadata": {
        "id": "u5u_e0tYo3Tk"
      },
      "source": [
        "df[col1].corr() # посмотрим на парные корреляции"
      ]
    },
    {
      "cell_type": "code",
      "execution_count": null,
      "metadata": {
        "colab": {
          "base_uri": "https://localhost:8080/",
          "height": 832
        },
        "id": "TQdSvLS_pDTu",
        "outputId": "d5eaa93d-e0ea-4706-cf96-8ec6296973ba"
      },
      "outputs": [
        {
          "data": {
            "text/html": [
              "<div>\n",
              "<style scoped>\n",
              "    .dataframe tbody tr th:only-of-type {\n",
              "        vertical-align: middle;\n",
              "    }\n",
              "\n",
              "    .dataframe tbody tr th {\n",
              "        vertical-align: top;\n",
              "    }\n",
              "\n",
              "    .dataframe thead th {\n",
              "        text-align: right;\n",
              "    }\n",
              "</style>\n",
              "<table border=\"1\" class=\"dataframe\">\n",
              "  <thead>\n",
              "    <tr style=\"text-align: right;\">\n",
              "      <th></th>\n",
              "      <th>biofilm RT</th>\n",
              "      <th>biofilm 37C</th>\n",
              "      <th>swimming RT</th>\n",
              "      <th>swimming 37C</th>\n",
              "      <th>swarming RT</th>\n",
              "      <th>swarming 37C</th>\n",
              "      <th>AMC</th>\n",
              "      <th>TZP</th>\n",
              "      <th>CXM</th>\n",
              "      <th>CTX</th>\n",
              "      <th>CAZ</th>\n",
              "      <th>FEP</th>\n",
              "      <th>IPM</th>\n",
              "      <th>MEM</th>\n",
              "      <th>ETP</th>\n",
              "      <th>AMK</th>\n",
              "      <th>CN</th>\n",
              "      <th>CIP</th>\n",
              "      <th>SXT</th>\n",
              "      <th>TGC</th>\n",
              "      <th>FOX</th>\n",
              "    </tr>\n",
              "  </thead>\n",
              "  <tbody>\n",
              "    <tr>\n",
              "      <th>biofilm RT</th>\n",
              "      <td>1.000000</td>\n",
              "      <td>0.489589</td>\n",
              "      <td>0.056328</td>\n",
              "      <td>0.054741</td>\n",
              "      <td>0.151666</td>\n",
              "      <td>0.266959</td>\n",
              "      <td>-0.319003</td>\n",
              "      <td>-0.256588</td>\n",
              "      <td>0.109302</td>\n",
              "      <td>0.193522</td>\n",
              "      <td>-0.271069</td>\n",
              "      <td>0.047581</td>\n",
              "      <td>0.043902</td>\n",
              "      <td>-0.006438</td>\n",
              "      <td>-0.003698</td>\n",
              "      <td>0.098857</td>\n",
              "      <td>0.325695</td>\n",
              "      <td>0.249444</td>\n",
              "      <td>0.077940</td>\n",
              "      <td>0.247171</td>\n",
              "      <td>-0.089561</td>\n",
              "    </tr>\n",
              "    <tr>\n",
              "      <th>biofilm 37C</th>\n",
              "      <td>0.489589</td>\n",
              "      <td>1.000000</td>\n",
              "      <td>-0.298067</td>\n",
              "      <td>-0.088903</td>\n",
              "      <td>-0.041561</td>\n",
              "      <td>0.017813</td>\n",
              "      <td>-0.490868</td>\n",
              "      <td>-0.555319</td>\n",
              "      <td>-0.034962</td>\n",
              "      <td>-0.204226</td>\n",
              "      <td>-0.575737</td>\n",
              "      <td>-0.399573</td>\n",
              "      <td>-0.203754</td>\n",
              "      <td>-0.373898</td>\n",
              "      <td>-0.462525</td>\n",
              "      <td>-0.271269</td>\n",
              "      <td>-0.090640</td>\n",
              "      <td>-0.146948</td>\n",
              "      <td>-0.324853</td>\n",
              "      <td>-0.155442</td>\n",
              "      <td>-0.423726</td>\n",
              "    </tr>\n",
              "    <tr>\n",
              "      <th>swimming RT</th>\n",
              "      <td>0.056328</td>\n",
              "      <td>-0.298067</td>\n",
              "      <td>1.000000</td>\n",
              "      <td>0.266943</td>\n",
              "      <td>0.236148</td>\n",
              "      <td>0.266885</td>\n",
              "      <td>-0.039366</td>\n",
              "      <td>0.224540</td>\n",
              "      <td>0.062445</td>\n",
              "      <td>0.158643</td>\n",
              "      <td>0.170423</td>\n",
              "      <td>0.226987</td>\n",
              "      <td>-0.101127</td>\n",
              "      <td>0.082913</td>\n",
              "      <td>0.037631</td>\n",
              "      <td>0.155105</td>\n",
              "      <td>0.187786</td>\n",
              "      <td>0.295266</td>\n",
              "      <td>0.379418</td>\n",
              "      <td>0.008335</td>\n",
              "      <td>-0.031972</td>\n",
              "    </tr>\n",
              "    <tr>\n",
              "      <th>swimming 37C</th>\n",
              "      <td>0.054741</td>\n",
              "      <td>-0.088903</td>\n",
              "      <td>0.266943</td>\n",
              "      <td>1.000000</td>\n",
              "      <td>0.268472</td>\n",
              "      <td>0.265794</td>\n",
              "      <td>-0.005332</td>\n",
              "      <td>-0.268987</td>\n",
              "      <td>0.242678</td>\n",
              "      <td>-0.443628</td>\n",
              "      <td>-0.359650</td>\n",
              "      <td>-0.431290</td>\n",
              "      <td>0.378922</td>\n",
              "      <td>0.074729</td>\n",
              "      <td>-0.151877</td>\n",
              "      <td>-0.399345</td>\n",
              "      <td>-0.241083</td>\n",
              "      <td>-0.092047</td>\n",
              "      <td>-0.112517</td>\n",
              "      <td>0.220725</td>\n",
              "      <td>0.189037</td>\n",
              "    </tr>\n",
              "    <tr>\n",
              "      <th>swarming RT</th>\n",
              "      <td>0.151666</td>\n",
              "      <td>-0.041561</td>\n",
              "      <td>0.236148</td>\n",
              "      <td>0.268472</td>\n",
              "      <td>1.000000</td>\n",
              "      <td>0.952261</td>\n",
              "      <td>-0.313944</td>\n",
              "      <td>0.014365</td>\n",
              "      <td>0.191920</td>\n",
              "      <td>0.072336</td>\n",
              "      <td>0.031123</td>\n",
              "      <td>0.045233</td>\n",
              "      <td>0.262153</td>\n",
              "      <td>0.271549</td>\n",
              "      <td>-0.002271</td>\n",
              "      <td>-0.084892</td>\n",
              "      <td>-0.034190</td>\n",
              "      <td>-0.040530</td>\n",
              "      <td>-0.191726</td>\n",
              "      <td>0.019639</td>\n",
              "      <td>-0.397075</td>\n",
              "    </tr>\n",
              "    <tr>\n",
              "      <th>swarming 37C</th>\n",
              "      <td>0.266959</td>\n",
              "      <td>0.017813</td>\n",
              "      <td>0.266885</td>\n",
              "      <td>0.265794</td>\n",
              "      <td>0.952261</td>\n",
              "      <td>1.000000</td>\n",
              "      <td>-0.278975</td>\n",
              "      <td>0.064395</td>\n",
              "      <td>0.293445</td>\n",
              "      <td>0.188992</td>\n",
              "      <td>0.076929</td>\n",
              "      <td>0.133740</td>\n",
              "      <td>0.256897</td>\n",
              "      <td>0.296785</td>\n",
              "      <td>0.040366</td>\n",
              "      <td>-0.029416</td>\n",
              "      <td>0.049198</td>\n",
              "      <td>0.084924</td>\n",
              "      <td>-0.087189</td>\n",
              "      <td>0.089989</td>\n",
              "      <td>-0.374847</td>\n",
              "    </tr>\n",
              "    <tr>\n",
              "      <th>AMC</th>\n",
              "      <td>-0.319003</td>\n",
              "      <td>-0.490868</td>\n",
              "      <td>-0.039366</td>\n",
              "      <td>-0.005332</td>\n",
              "      <td>-0.313944</td>\n",
              "      <td>-0.278975</td>\n",
              "      <td>1.000000</td>\n",
              "      <td>0.529594</td>\n",
              "      <td>0.051648</td>\n",
              "      <td>0.204649</td>\n",
              "      <td>0.551678</td>\n",
              "      <td>0.307393</td>\n",
              "      <td>0.199946</td>\n",
              "      <td>0.428465</td>\n",
              "      <td>0.448852</td>\n",
              "      <td>0.239329</td>\n",
              "      <td>0.122347</td>\n",
              "      <td>0.154310</td>\n",
              "      <td>0.335340</td>\n",
              "      <td>0.273372</td>\n",
              "      <td>0.412622</td>\n",
              "    </tr>\n",
              "    <tr>\n",
              "      <th>TZP</th>\n",
              "      <td>-0.256588</td>\n",
              "      <td>-0.555319</td>\n",
              "      <td>0.224540</td>\n",
              "      <td>-0.268987</td>\n",
              "      <td>0.014365</td>\n",
              "      <td>0.064395</td>\n",
              "      <td>0.529594</td>\n",
              "      <td>1.000000</td>\n",
              "      <td>-0.015307</td>\n",
              "      <td>0.365931</td>\n",
              "      <td>0.742272</td>\n",
              "      <td>0.578604</td>\n",
              "      <td>0.223992</td>\n",
              "      <td>0.368243</td>\n",
              "      <td>0.553753</td>\n",
              "      <td>0.485760</td>\n",
              "      <td>0.343709</td>\n",
              "      <td>0.229867</td>\n",
              "      <td>0.385834</td>\n",
              "      <td>0.003804</td>\n",
              "      <td>0.095935</td>\n",
              "    </tr>\n",
              "    <tr>\n",
              "      <th>CXM</th>\n",
              "      <td>0.109302</td>\n",
              "      <td>-0.034962</td>\n",
              "      <td>0.062445</td>\n",
              "      <td>0.242678</td>\n",
              "      <td>0.191920</td>\n",
              "      <td>0.293445</td>\n",
              "      <td>0.051648</td>\n",
              "      <td>-0.015307</td>\n",
              "      <td>1.000000</td>\n",
              "      <td>0.362001</td>\n",
              "      <td>0.145692</td>\n",
              "      <td>0.230601</td>\n",
              "      <td>0.485793</td>\n",
              "      <td>0.268417</td>\n",
              "      <td>0.347681</td>\n",
              "      <td>0.147110</td>\n",
              "      <td>0.175850</td>\n",
              "      <td>0.330715</td>\n",
              "      <td>0.219629</td>\n",
              "      <td>0.117507</td>\n",
              "      <td>0.227304</td>\n",
              "    </tr>\n",
              "    <tr>\n",
              "      <th>CTX</th>\n",
              "      <td>0.193522</td>\n",
              "      <td>-0.204226</td>\n",
              "      <td>0.158643</td>\n",
              "      <td>-0.443628</td>\n",
              "      <td>0.072336</td>\n",
              "      <td>0.188992</td>\n",
              "      <td>0.204649</td>\n",
              "      <td>0.365931</td>\n",
              "      <td>0.362001</td>\n",
              "      <td>1.000000</td>\n",
              "      <td>0.705736</td>\n",
              "      <td>0.899919</td>\n",
              "      <td>-0.031764</td>\n",
              "      <td>0.138603</td>\n",
              "      <td>0.484645</td>\n",
              "      <td>0.760170</td>\n",
              "      <td>0.651307</td>\n",
              "      <td>0.648997</td>\n",
              "      <td>0.628210</td>\n",
              "      <td>0.085204</td>\n",
              "      <td>-0.015137</td>\n",
              "    </tr>\n",
              "    <tr>\n",
              "      <th>CAZ</th>\n",
              "      <td>-0.271069</td>\n",
              "      <td>-0.575737</td>\n",
              "      <td>0.170423</td>\n",
              "      <td>-0.359650</td>\n",
              "      <td>0.031123</td>\n",
              "      <td>0.076929</td>\n",
              "      <td>0.551678</td>\n",
              "      <td>0.742272</td>\n",
              "      <td>0.145692</td>\n",
              "      <td>0.705736</td>\n",
              "      <td>1.000000</td>\n",
              "      <td>0.777762</td>\n",
              "      <td>0.092372</td>\n",
              "      <td>0.307645</td>\n",
              "      <td>0.535208</td>\n",
              "      <td>0.603000</td>\n",
              "      <td>0.437440</td>\n",
              "      <td>0.377216</td>\n",
              "      <td>0.524858</td>\n",
              "      <td>0.057044</td>\n",
              "      <td>0.183155</td>\n",
              "    </tr>\n",
              "    <tr>\n",
              "      <th>FEP</th>\n",
              "      <td>0.047581</td>\n",
              "      <td>-0.399573</td>\n",
              "      <td>0.226987</td>\n",
              "      <td>-0.431290</td>\n",
              "      <td>0.045233</td>\n",
              "      <td>0.133740</td>\n",
              "      <td>0.307393</td>\n",
              "      <td>0.578604</td>\n",
              "      <td>0.230601</td>\n",
              "      <td>0.899919</td>\n",
              "      <td>0.777762</td>\n",
              "      <td>1.000000</td>\n",
              "      <td>0.057278</td>\n",
              "      <td>0.285136</td>\n",
              "      <td>0.635553</td>\n",
              "      <td>0.749939</td>\n",
              "      <td>0.631526</td>\n",
              "      <td>0.575555</td>\n",
              "      <td>0.605992</td>\n",
              "      <td>0.086627</td>\n",
              "      <td>0.025067</td>\n",
              "    </tr>\n",
              "    <tr>\n",
              "      <th>IPM</th>\n",
              "      <td>0.043902</td>\n",
              "      <td>-0.203754</td>\n",
              "      <td>-0.101127</td>\n",
              "      <td>0.378922</td>\n",
              "      <td>0.262153</td>\n",
              "      <td>0.256897</td>\n",
              "      <td>0.199946</td>\n",
              "      <td>0.223992</td>\n",
              "      <td>0.485793</td>\n",
              "      <td>-0.031764</td>\n",
              "      <td>0.092372</td>\n",
              "      <td>0.057278</td>\n",
              "      <td>1.000000</td>\n",
              "      <td>0.457539</td>\n",
              "      <td>0.528656</td>\n",
              "      <td>-0.006896</td>\n",
              "      <td>-0.050758</td>\n",
              "      <td>-0.013790</td>\n",
              "      <td>-0.110413</td>\n",
              "      <td>0.154494</td>\n",
              "      <td>0.249393</td>\n",
              "    </tr>\n",
              "    <tr>\n",
              "      <th>MEM</th>\n",
              "      <td>-0.006438</td>\n",
              "      <td>-0.373898</td>\n",
              "      <td>0.082913</td>\n",
              "      <td>0.074729</td>\n",
              "      <td>0.271549</td>\n",
              "      <td>0.296785</td>\n",
              "      <td>0.428465</td>\n",
              "      <td>0.368243</td>\n",
              "      <td>0.268417</td>\n",
              "      <td>0.138603</td>\n",
              "      <td>0.307645</td>\n",
              "      <td>0.285136</td>\n",
              "      <td>0.457539</td>\n",
              "      <td>1.000000</td>\n",
              "      <td>0.549393</td>\n",
              "      <td>0.083844</td>\n",
              "      <td>0.210086</td>\n",
              "      <td>0.181788</td>\n",
              "      <td>0.093633</td>\n",
              "      <td>0.288383</td>\n",
              "      <td>0.194304</td>\n",
              "    </tr>\n",
              "    <tr>\n",
              "      <th>ETP</th>\n",
              "      <td>-0.003698</td>\n",
              "      <td>-0.462525</td>\n",
              "      <td>0.037631</td>\n",
              "      <td>-0.151877</td>\n",
              "      <td>-0.002271</td>\n",
              "      <td>0.040366</td>\n",
              "      <td>0.448852</td>\n",
              "      <td>0.553753</td>\n",
              "      <td>0.347681</td>\n",
              "      <td>0.484645</td>\n",
              "      <td>0.535208</td>\n",
              "      <td>0.635553</td>\n",
              "      <td>0.528656</td>\n",
              "      <td>0.549393</td>\n",
              "      <td>1.000000</td>\n",
              "      <td>0.464022</td>\n",
              "      <td>0.354715</td>\n",
              "      <td>0.261847</td>\n",
              "      <td>0.266971</td>\n",
              "      <td>0.073470</td>\n",
              "      <td>0.389559</td>\n",
              "    </tr>\n",
              "    <tr>\n",
              "      <th>AMK</th>\n",
              "      <td>0.098857</td>\n",
              "      <td>-0.271269</td>\n",
              "      <td>0.155105</td>\n",
              "      <td>-0.399345</td>\n",
              "      <td>-0.084892</td>\n",
              "      <td>-0.029416</td>\n",
              "      <td>0.239329</td>\n",
              "      <td>0.485760</td>\n",
              "      <td>0.147110</td>\n",
              "      <td>0.760170</td>\n",
              "      <td>0.603000</td>\n",
              "      <td>0.749939</td>\n",
              "      <td>-0.006896</td>\n",
              "      <td>0.083844</td>\n",
              "      <td>0.464022</td>\n",
              "      <td>1.000000</td>\n",
              "      <td>0.848312</td>\n",
              "      <td>0.581274</td>\n",
              "      <td>0.609806</td>\n",
              "      <td>0.102757</td>\n",
              "      <td>0.090147</td>\n",
              "    </tr>\n",
              "    <tr>\n",
              "      <th>CN</th>\n",
              "      <td>0.325695</td>\n",
              "      <td>-0.090640</td>\n",
              "      <td>0.187786</td>\n",
              "      <td>-0.241083</td>\n",
              "      <td>-0.034190</td>\n",
              "      <td>0.049198</td>\n",
              "      <td>0.122347</td>\n",
              "      <td>0.343709</td>\n",
              "      <td>0.175850</td>\n",
              "      <td>0.651307</td>\n",
              "      <td>0.437440</td>\n",
              "      <td>0.631526</td>\n",
              "      <td>-0.050758</td>\n",
              "      <td>0.210086</td>\n",
              "      <td>0.354715</td>\n",
              "      <td>0.848312</td>\n",
              "      <td>1.000000</td>\n",
              "      <td>0.588416</td>\n",
              "      <td>0.559059</td>\n",
              "      <td>0.205274</td>\n",
              "      <td>0.070260</td>\n",
              "    </tr>\n",
              "    <tr>\n",
              "      <th>CIP</th>\n",
              "      <td>0.249444</td>\n",
              "      <td>-0.146948</td>\n",
              "      <td>0.295266</td>\n",
              "      <td>-0.092047</td>\n",
              "      <td>-0.040530</td>\n",
              "      <td>0.084924</td>\n",
              "      <td>0.154310</td>\n",
              "      <td>0.229867</td>\n",
              "      <td>0.330715</td>\n",
              "      <td>0.648997</td>\n",
              "      <td>0.377216</td>\n",
              "      <td>0.575555</td>\n",
              "      <td>-0.013790</td>\n",
              "      <td>0.181788</td>\n",
              "      <td>0.261847</td>\n",
              "      <td>0.581274</td>\n",
              "      <td>0.588416</td>\n",
              "      <td>1.000000</td>\n",
              "      <td>0.893586</td>\n",
              "      <td>0.322073</td>\n",
              "      <td>0.092393</td>\n",
              "    </tr>\n",
              "    <tr>\n",
              "      <th>SXT</th>\n",
              "      <td>0.077940</td>\n",
              "      <td>-0.324853</td>\n",
              "      <td>0.379418</td>\n",
              "      <td>-0.112517</td>\n",
              "      <td>-0.191726</td>\n",
              "      <td>-0.087189</td>\n",
              "      <td>0.335340</td>\n",
              "      <td>0.385834</td>\n",
              "      <td>0.219629</td>\n",
              "      <td>0.628210</td>\n",
              "      <td>0.524858</td>\n",
              "      <td>0.605992</td>\n",
              "      <td>-0.110413</td>\n",
              "      <td>0.093633</td>\n",
              "      <td>0.266971</td>\n",
              "      <td>0.609806</td>\n",
              "      <td>0.559059</td>\n",
              "      <td>0.893586</td>\n",
              "      <td>1.000000</td>\n",
              "      <td>0.362952</td>\n",
              "      <td>0.151177</td>\n",
              "    </tr>\n",
              "    <tr>\n",
              "      <th>TGC</th>\n",
              "      <td>0.247171</td>\n",
              "      <td>-0.155442</td>\n",
              "      <td>0.008335</td>\n",
              "      <td>0.220725</td>\n",
              "      <td>0.019639</td>\n",
              "      <td>0.089989</td>\n",
              "      <td>0.273372</td>\n",
              "      <td>0.003804</td>\n",
              "      <td>0.117507</td>\n",
              "      <td>0.085204</td>\n",
              "      <td>0.057044</td>\n",
              "      <td>0.086627</td>\n",
              "      <td>0.154494</td>\n",
              "      <td>0.288383</td>\n",
              "      <td>0.073470</td>\n",
              "      <td>0.102757</td>\n",
              "      <td>0.205274</td>\n",
              "      <td>0.322073</td>\n",
              "      <td>0.362952</td>\n",
              "      <td>1.000000</td>\n",
              "      <td>0.190757</td>\n",
              "    </tr>\n",
              "    <tr>\n",
              "      <th>FOX</th>\n",
              "      <td>-0.089561</td>\n",
              "      <td>-0.423726</td>\n",
              "      <td>-0.031972</td>\n",
              "      <td>0.189037</td>\n",
              "      <td>-0.397075</td>\n",
              "      <td>-0.374847</td>\n",
              "      <td>0.412622</td>\n",
              "      <td>0.095935</td>\n",
              "      <td>0.227304</td>\n",
              "      <td>-0.015137</td>\n",
              "      <td>0.183155</td>\n",
              "      <td>0.025067</td>\n",
              "      <td>0.249393</td>\n",
              "      <td>0.194304</td>\n",
              "      <td>0.389559</td>\n",
              "      <td>0.090147</td>\n",
              "      <td>0.070260</td>\n",
              "      <td>0.092393</td>\n",
              "      <td>0.151177</td>\n",
              "      <td>0.190757</td>\n",
              "      <td>1.000000</td>\n",
              "    </tr>\n",
              "  </tbody>\n",
              "</table>\n",
              "</div>"
            ],
            "text/plain": [
              "              biofilm RT  biofilm 37C  ...       TGC       FOX\n",
              "biofilm RT      1.000000     0.489589  ...  0.247171 -0.089561\n",
              "biofilm 37C     0.489589     1.000000  ... -0.155442 -0.423726\n",
              "swimming RT     0.056328    -0.298067  ...  0.008335 -0.031972\n",
              "swimming 37C    0.054741    -0.088903  ...  0.220725  0.189037\n",
              "swarming RT     0.151666    -0.041561  ...  0.019639 -0.397075\n",
              "swarming 37C    0.266959     0.017813  ...  0.089989 -0.374847\n",
              "AMC            -0.319003    -0.490868  ...  0.273372  0.412622\n",
              "TZP            -0.256588    -0.555319  ...  0.003804  0.095935\n",
              "CXM             0.109302    -0.034962  ...  0.117507  0.227304\n",
              "CTX             0.193522    -0.204226  ...  0.085204 -0.015137\n",
              "CAZ            -0.271069    -0.575737  ...  0.057044  0.183155\n",
              "FEP             0.047581    -0.399573  ...  0.086627  0.025067\n",
              "IPM             0.043902    -0.203754  ...  0.154494  0.249393\n",
              "MEM            -0.006438    -0.373898  ...  0.288383  0.194304\n",
              "ETP            -0.003698    -0.462525  ...  0.073470  0.389559\n",
              "AMK             0.098857    -0.271269  ...  0.102757  0.090147\n",
              "CN              0.325695    -0.090640  ...  0.205274  0.070260\n",
              "CIP             0.249444    -0.146948  ...  0.322073  0.092393\n",
              "SXT             0.077940    -0.324853  ...  0.362952  0.151177\n",
              "TGC             0.247171    -0.155442  ...  1.000000  0.190757\n",
              "FOX            -0.089561    -0.423726  ...  0.190757  1.000000\n",
              "\n",
              "[21 rows x 21 columns]"
            ]
          },
          "execution_count": 184,
          "metadata": {
            "tags": []
          },
          "output_type": "execute_result"
        }
      ],
      "source": [
        "df1[col2].corr() # посмотрим на парные корреляции"
      ]
    },
    {
      "cell_type": "code",
      "execution_count": null,
      "metadata": {
        "id": "XCJ6u4i53aFp"
      },
      "outputs": [],
      "source": [
        "# загружаем библиотеку препроцесинга данных\n",
        "# эта библиотека автоматически приведен данные к нормальным значениям\n",
        "from sklearn import preprocessing\n",
        "dataNorm1 = preprocessing.MinMaxScaler().fit_transform(df[col1].values)\n",
        "dataNorm2 = preprocessing.MinMaxScaler().fit_transform(df1[col2].values)"
      ]
    },
    {
      "cell_type": "code",
      "execution_count": null,
      "metadata": {
        "id": "RZKQoOXP3jjU"
      },
      "outputs": [],
      "source": [
        "# Вычислим расстояния между каждым набором данных,\n",
        "# т.е. строками массива data_for_clust\n",
        "# Вычисляется евклидово расстояние (по умолчанию)\n",
        "data_dist1 = pdist(dataNorm1, 'euclidean')\n",
        "data_dist2 = pdist(dataNorm2, 'euclidean')\n",
        "# Главная функция иерархической кластеризии\n",
        "# Объедение элементов в кластера и сохранение в \n",
        "# специальной переменной (используется ниже для визуализации \n",
        "# и выделения количества кластеров\n",
        "data_linkage1 = linkage(data_dist1, method='average')\n",
        "data_linkage2 = linkage(data_dist2, method='average')"
      ]
    },
    {
      "cell_type": "code",
      "execution_count": null,
      "metadata": {
        "colab": {
          "base_uri": "https://localhost:8080/",
          "height": 283
        },
        "id": "XHzFtYtV3wJr",
        "outputId": "0b574f7d-72de-40f2-ee1e-32af26009cd6"
      },
      "outputs": [
        {
          "data": {
            "image/png": "[encoded data removed]",
            "text/plain": [
              "<Figure size 432x288 with 1 Axes>"
            ]
          },
          "metadata": {
            "needs_background": "light",
            "tags": []
          },
          "output_type": "display_data"
        },
        {
          "name": "stdout",
          "output_type": "stream",
          "text": [
            "Рекомендованное количество кластеров: 5\n"
          ]
        }
      ],
      "source": [
        "# Метод локтя. Позволячет оценить оптимальное количество сегментов.\n",
        "# Показывает сумму внутри групповых вариаций\n",
        "last = data_linkage1[-10:, 2]\n",
        "last_rev = last[::-1]\n",
        "idxs = np.arange(1, len(last) + 1)\n",
        "plt.plot(idxs, last_rev)\n",
        "\n",
        "acceleration = np.diff(last, 2)  \n",
        "acceleration_rev = acceleration[::-1]\n",
        "plt.plot(idxs[:-2] + 1, acceleration_rev)\n",
        "plt.show()\n",
        "k = acceleration_rev.argmax() + 2 \n",
        "print(\"Рекомендованное количество кластеров:\", k)"
      ]
    },
    {
      "cell_type": "code",
      "execution_count": null,
      "metadata": {
        "colab": {
          "base_uri": "https://localhost:8080/",
          "height": 283
        },
        "id": "a2tw78JEsOZf",
        "outputId": "d86b44ce-11a3-45c4-d6ff-862d9ba5f4c9"
      },
      "outputs": [
        {
          "data": {
            "image/png": "[encoded data removed]",
            "text/plain": [
              "<Figure size 432x288 with 1 Axes>"
            ]
          },
          "metadata": {
            "needs_background": "light",
            "tags": []
          },
          "output_type": "display_data"
        },
        {
          "name": "stdout",
          "output_type": "stream",
          "text": [
            "Рекомендованное количество кластеров: 2\n"
          ]
        }
      ],
      "source": [
        "last = data_linkage2[-10:, 2]\n",
        "last_rev = last[::-1]\n",
        "idxs = np.arange(1, len(last) + 1)\n",
        "plt.plot(idxs, last_rev)\n",
        "\n",
        "acceleration = np.diff(last, 2)  \n",
        "acceleration_rev = acceleration[::-1]\n",
        "plt.plot(idxs[:-2] + 1, acceleration_rev)\n",
        "plt.show()\n",
        "k = acceleration_rev.argmax() + 2 \n",
        "print(\"Рекомендованное количество кластеров:\", k)"
      ]
    },
    {
      "cell_type": "code",
      "execution_count": null,
      "metadata": {
        "id": "rrbuQGrJ4ZJk"
      },
      "outputs": [],
      "source": [
        "#функция построения дендрограмм\n",
        "def fancy_dendrogram(*args, **kwargs):\n",
        "    max_d = kwargs.pop('max_d', None)\n",
        "    if max_d and 'color_threshold' not in kwargs:\n",
        "        kwargs['color_threshold'] = max_d\n",
        "    annotate_above = kwargs.pop('annotate_above', 0)\n",
        "\n",
        "    ddata = dendrogram(*args, **kwargs)\n",
        "\n",
        "    if not kwargs.get('no_plot', False):\n",
        "        plt.title('Hierarchical Clustering Dendrogram (truncated)')\n",
        "        plt.xlabel('sample id')\n",
        "        plt.ylabel('distance')\n",
        "        for i, d, c in zip(ddata['icoord'], ddata['dcoord'], ddata['color_list']):\n",
        "            x = 0.5 * sum(i[1:3])\n",
        "            y = d[1]\n",
        "            if y > annotate_above:\n",
        "                plt.plot(x, y, 'o', c=c)\n",
        "                plt.annotate(\"%.3g\" % y, (x, y), xytext=(0, -5),\n",
        "                             textcoords='offset points',\n",
        "                             va='top', ha='center')\n",
        "        if max_d:\n",
        "            plt.axhline(y=max_d, c='k')\n",
        "    return ddata"
      ]
    },
    {
      "cell_type": "code",
      "execution_count": null,
      "metadata": {
        "id": "ziA2nTmb4juK"
      },
      "outputs": [],
      "source": [
        "# !!!!!!!!! укажите, какое количество кластеров будете использовать!\n",
        "nClust1=34"
      ]
    },
    {
      "cell_type": "code",
      "execution_count": null,
      "metadata": {
        "id": "AaOyeUKvsYjy"
      },
      "outputs": [],
      "source": [
        "nClust2=34"
      ]
    },
    {
      "cell_type": "code",
      "execution_count": null,
      "metadata": {
        "colab": {
          "base_uri": "https://localhost:8080/"
        },
        "id": "hbujIzCC42si",
        "outputId": "3192de83-1cf1-4f2a-f14c-8945a52533b1"
      },
      "outputs": [
        {
          "name": "stdout",
          "output_type": "stream",
          "text": [
            "<class 'pandas.core.frame.DataFrame'>\n",
            "RangeIndex: 35 entries, 0 to 34\n",
            "Data columns (total 13 columns):\n",
            " #   Column                                          Non-Null Count  Dtype  \n",
            "---  ------                                          --------------  -----  \n",
            " 0   połoczenia inhibitor betalaktamazy/ penicylina  35 non-null     int64  \n",
            " 1   cefalosporyny 3 generacji                       35 non-null     int64  \n",
            " 2   karbapenemy                                     35 non-null     int64  \n",
            " 3   aminoglikozydy                                  35 non-null     int64  \n",
            " 4   fluorochinolony                                 35 non-null     int64  \n",
            " 5   sulfonamidy                                     35 non-null     int64  \n",
            " 6   tetracykliny                                    35 non-null     int64  \n",
            " 7   biofilm RT                                      35 non-null     float64\n",
            " 8   biofilm 37C                                     35 non-null     float64\n",
            " 9   swimming RT                                     35 non-null     float64\n",
            " 10  swimming 37C                                    35 non-null     float64\n",
            " 11  swarming RT                                     35 non-null     float64\n",
            " 12  swarming 37C                                    35 non-null     float64\n",
            "dtypes: float64(6), int64(7)\n",
            "memory usage: 3.7 KB\n"
          ]
        }
      ],
      "source": [
        "df.info()"
      ]
    },
    {
      "cell_type": "code",
      "execution_count": null,
      "metadata": {
        "colab": {
          "base_uri": "https://localhost:8080/",
          "height": 335
        },
        "id": "iWWv-Yuk43ri",
        "outputId": "71ce6efb-41e8-4a6f-f7b2-30a00d1f0343"
      },
      "outputs": [
        {
          "data": {
            "text/html": [
              "<div>\n",
              "<style scoped>\n",
              "    .dataframe tbody tr th:only-of-type {\n",
              "        vertical-align: middle;\n",
              "    }\n",
              "\n",
              "    .dataframe tbody tr th {\n",
              "        vertical-align: top;\n",
              "    }\n",
              "\n",
              "    .dataframe thead th {\n",
              "        text-align: right;\n",
              "    }\n",
              "</style>\n",
              "<table border=\"1\" class=\"dataframe\">\n",
              "  <thead>\n",
              "    <tr style=\"text-align: right;\">\n",
              "      <th></th>\n",
              "      <th>połoczenia inhibitor betalaktamazy/ penicylina</th>\n",
              "      <th>cefalosporyny 3 generacji</th>\n",
              "      <th>karbapenemy</th>\n",
              "      <th>aminoglikozydy</th>\n",
              "      <th>fluorochinolony</th>\n",
              "      <th>sulfonamidy</th>\n",
              "      <th>tetracykliny</th>\n",
              "      <th>biofilm RT</th>\n",
              "      <th>biofilm 37C</th>\n",
              "      <th>swimming RT</th>\n",
              "      <th>swimming 37C</th>\n",
              "      <th>swarming RT</th>\n",
              "      <th>swarming 37C</th>\n",
              "    </tr>\n",
              "  </thead>\n",
              "  <tbody>\n",
              "    <tr>\n",
              "      <th>count</th>\n",
              "      <td>35.000000</td>\n",
              "      <td>35.000000</td>\n",
              "      <td>35.000000</td>\n",
              "      <td>35.000000</td>\n",
              "      <td>35.000000</td>\n",
              "      <td>35.000000</td>\n",
              "      <td>35.000000</td>\n",
              "      <td>35.000000</td>\n",
              "      <td>35.000000</td>\n",
              "      <td>35.000000</td>\n",
              "      <td>35.000000</td>\n",
              "      <td>35.000000</td>\n",
              "      <td>35.000000</td>\n",
              "    </tr>\n",
              "    <tr>\n",
              "      <th>mean</th>\n",
              "      <td>0.171429</td>\n",
              "      <td>0.542857</td>\n",
              "      <td>0.142857</td>\n",
              "      <td>0.114286</td>\n",
              "      <td>0.285714</td>\n",
              "      <td>0.257143</td>\n",
              "      <td>0.028571</td>\n",
              "      <td>0.289884</td>\n",
              "      <td>0.116926</td>\n",
              "      <td>23.651621</td>\n",
              "      <td>17.633611</td>\n",
              "      <td>8.273469</td>\n",
              "      <td>7.895918</td>\n",
              "    </tr>\n",
              "    <tr>\n",
              "      <th>std</th>\n",
              "      <td>0.382385</td>\n",
              "      <td>0.505433</td>\n",
              "      <td>0.355036</td>\n",
              "      <td>0.322803</td>\n",
              "      <td>0.458349</td>\n",
              "      <td>0.443440</td>\n",
              "      <td>0.169031</td>\n",
              "      <td>0.251791</td>\n",
              "      <td>0.268525</td>\n",
              "      <td>9.832151</td>\n",
              "      <td>13.343913</td>\n",
              "      <td>4.555299</td>\n",
              "      <td>3.198911</td>\n",
              "    </tr>\n",
              "    <tr>\n",
              "      <th>min</th>\n",
              "      <td>0.000000</td>\n",
              "      <td>0.000000</td>\n",
              "      <td>0.000000</td>\n",
              "      <td>0.000000</td>\n",
              "      <td>0.000000</td>\n",
              "      <td>0.000000</td>\n",
              "      <td>0.000000</td>\n",
              "      <td>0.000000</td>\n",
              "      <td>0.000000</td>\n",
              "      <td>4.800000</td>\n",
              "      <td>2.625000</td>\n",
              "      <td>6.428571</td>\n",
              "      <td>6.285714</td>\n",
              "    </tr>\n",
              "    <tr>\n",
              "      <th>25%</th>\n",
              "      <td>0.000000</td>\n",
              "      <td>0.000000</td>\n",
              "      <td>0.000000</td>\n",
              "      <td>0.000000</td>\n",
              "      <td>0.000000</td>\n",
              "      <td>0.000000</td>\n",
              "      <td>0.000000</td>\n",
              "      <td>0.077806</td>\n",
              "      <td>0.012694</td>\n",
              "      <td>19.000000</td>\n",
              "      <td>6.151786</td>\n",
              "      <td>6.928571</td>\n",
              "      <td>6.857143</td>\n",
              "    </tr>\n",
              "    <tr>\n",
              "      <th>50%</th>\n",
              "      <td>0.000000</td>\n",
              "      <td>1.000000</td>\n",
              "      <td>0.000000</td>\n",
              "      <td>0.000000</td>\n",
              "      <td>0.000000</td>\n",
              "      <td>0.000000</td>\n",
              "      <td>0.000000</td>\n",
              "      <td>0.278926</td>\n",
              "      <td>0.033204</td>\n",
              "      <td>25.500000</td>\n",
              "      <td>12.900000</td>\n",
              "      <td>7.142857</td>\n",
              "      <td>7.142857</td>\n",
              "    </tr>\n",
              "    <tr>\n",
              "      <th>75%</th>\n",
              "      <td>0.000000</td>\n",
              "      <td>1.000000</td>\n",
              "      <td>0.000000</td>\n",
              "      <td>0.000000</td>\n",
              "      <td>1.000000</td>\n",
              "      <td>0.500000</td>\n",
              "      <td>0.000000</td>\n",
              "      <td>0.423944</td>\n",
              "      <td>0.079287</td>\n",
              "      <td>31.300000</td>\n",
              "      <td>29.250000</td>\n",
              "      <td>7.785714</td>\n",
              "      <td>7.714286</td>\n",
              "    </tr>\n",
              "    <tr>\n",
              "      <th>max</th>\n",
              "      <td>1.000000</td>\n",
              "      <td>1.000000</td>\n",
              "      <td>1.000000</td>\n",
              "      <td>1.000000</td>\n",
              "      <td>1.000000</td>\n",
              "      <td>1.000000</td>\n",
              "      <td>1.000000</td>\n",
              "      <td>0.871444</td>\n",
              "      <td>1.458426</td>\n",
              "      <td>38.600000</td>\n",
              "      <td>40.000000</td>\n",
              "      <td>33.857143</td>\n",
              "      <td>25.666667</td>\n",
              "    </tr>\n",
              "  </tbody>\n",
              "</table>\n",
              "</div>"
            ],
            "text/plain": [
              "       połoczenia inhibitor betalaktamazy/ penicylina  ...  swarming 37C\n",
              "count                                       35.000000  ...     35.000000\n",
              "mean                                         0.171429  ...      7.895918\n",
              "std                                          0.382385  ...      3.198911\n",
              "min                                          0.000000  ...      6.285714\n",
              "25%                                          0.000000  ...      6.857143\n",
              "50%                                          0.000000  ...      7.142857\n",
              "75%                                          0.000000  ...      7.714286\n",
              "max                                          1.000000  ...     25.666667\n",
              "\n",
              "[8 rows x 13 columns]"
            ]
          },
          "execution_count": 193,
          "metadata": {
            "tags": []
          },
          "output_type": "execute_result"
        }
      ],
      "source": [
        "df.describe()"
      ]
    },
    {
      "cell_type": "code",
      "execution_count": null,
      "metadata": {
        "colab": {
          "base_uri": "https://localhost:8080/",
          "height": 296
        },
        "id": "ulVsPbZysqTR",
        "outputId": "7a87b06c-fbbd-4c5f-bb11-0d518415b955"
      },
      "outputs": [
        {
          "data": {
            "image/png": "[encoded data removed]",
            "text/plain": [
              "<Figure size 432x288 with 1 Axes>"
            ]
          },
          "metadata": {
            "needs_background": "light",
            "tags": []
          },
          "output_type": "display_data"
        }
      ],
      "source": [
        "fancy_dendrogram(\n",
        "    data_linkage1,\n",
        "    truncate_mode='level',\n",
        "    p=nClust1, \n",
        "    leaf_rotation=90.,\n",
        "    leaf_font_size=8.,\n",
        "    show_contracted=True,\n",
        "    annotate_above=100,\n",
        ")\n",
        "plt.savefig(\"wykres1.png\",dpi = 300)\n",
        "plt.show()"
      ]
    },
    {
      "cell_type": "code",
      "execution_count": null,
      "metadata": {
        "colab": {
          "base_uri": "https://localhost:8080/",
          "height": 296
        },
        "id": "TNK3CsIi5EYq",
        "outputId": "ff74341d-78ff-4f40-dfba-a143453fcbdc"
      },
      "outputs": [
        {
          "data": {
            "image/png": "[encoded data removed]",
            "text/plain": [
              "<Figure size 432x288 with 1 Axes>"
            ]
          },
          "metadata": {
            "needs_background": "light",
            "tags": []
          },
          "output_type": "display_data"
        }
      ],
      "source": [
        "#строим дендрограмму \n",
        "fancy_dendrogram(\n",
        "    data_linkage2,\n",
        "    truncate_mode='level',\n",
        "    p=nClust2, \n",
        "    leaf_rotation=90.,\n",
        "    leaf_font_size=8.,\n",
        "    show_contracted=True,\n",
        "    annotate_above=100,\n",
        ")\n",
        "plt.savefig(\"wykres2.png\",dpi = 300)\n",
        "plt.show()"
      ]
    },
    {
      "cell_type": "code",
      "execution_count": null,
      "metadata": {
        "colab": {
          "base_uri": "https://localhost:8080/"
        },
        "id": "E4sxsK5w5oIy",
        "outputId": "61b7b49e-d1e1-4129-cfc5-5e6e6378ce9e"
      },
      "outputs": [
        {
          "data": {
            "text/plain": [
              "array([20, 19, 30, 12, 21, 22, 28, 21, 31, 23,  8, 25, 33, 15, 16, 19, 27,\n",
              "       14, 24, 17, 18, 29, 32, 10,  4,  5, 11,  1,  6,  7,  2,  9, 13,  3,\n",
              "       26], dtype=int32)"
            ]
          },
          "execution_count": 196,
          "metadata": {
            "tags": []
          },
          "output_type": "execute_result"
        }
      ],
      "source": [
        "# иерархическая кластеризация\n",
        "clusters=fcluster(data_linkage1, nClust1, criterion='maxclust')\n",
        "clusters"
      ]
    },
    {
      "cell_type": "code",
      "execution_count": null,
      "metadata": {
        "colab": {
          "base_uri": "https://localhost:8080/"
        },
        "id": "uKZxpFM_unFQ",
        "outputId": "b8fb25ad-a00d-4872-f3c1-b594e505f9ff"
      },
      "outputs": [
        {
          "data": {
            "text/plain": [
              "array([ 5, 13,  1, 16, 18, 10,  3, 17,  2, 11,  4,  7, 33, 20,  8, 14, 12,\n",
              "       19,  6, 15, 15,  9, 32, 24, 28, 29, 25, 27, 21, 23, 27, 30, 26, 22,\n",
              "       31], dtype=int32)"
            ]
          },
          "execution_count": 197,
          "metadata": {
            "tags": []
          },
          "output_type": "execute_result"
        }
      ],
      "source": [
        "clusters=fcluster(data_linkage2, nClust2, criterion='maxclust')\n",
        "clusters"
      ]
    },
    {
      "cell_type": "code",
      "execution_count": null,
      "metadata": {
        "colab": {
          "base_uri": "https://localhost:8080/",
          "height": 600
        },
        "id": "JeooASha6FDK",
        "outputId": "8eb6aa54-a215-4bf0-e897-ea57926a2ee1"
      },
      "outputs": [
        {
          "ename": "KeyError",
          "evalue": "ignored",
          "output_type": "error",
          "traceback": [
            "\u001b[0;31m---------------------------------------------------------------------------\u001b[0m",
            "\u001b[0;31mKeyError\u001b[0m                                  Traceback (most recent call last)",
            "\u001b[0;32m/usr/local/lib/python3.7/dist-packages/pandas/core/indexes/base.py\u001b[0m in \u001b[0;36mget_loc\u001b[0;34m(self, key, method, tolerance)\u001b[0m\n\u001b[1;32m   2897\u001b[0m             \u001b[0;32mtry\u001b[0m\u001b[0;34m:\u001b[0m\u001b[0;34m\u001b[0m\u001b[0;34m\u001b[0m\u001b[0m\n\u001b[0;32m-> 2898\u001b[0;31m                 \u001b[0;32mreturn\u001b[0m \u001b[0mself\u001b[0m\u001b[0;34m.\u001b[0m\u001b[0m_engine\u001b[0m\u001b[0;34m.\u001b[0m\u001b[0mget_loc\u001b[0m\u001b[0;34m(\u001b[0m\u001b[0mcasted_key\u001b[0m\u001b[0;34m)\u001b[0m\u001b[0;34m\u001b[0m\u001b[0;34m\u001b[0m\u001b[0m\n\u001b[0m\u001b[1;32m   2899\u001b[0m             \u001b[0;32mexcept\u001b[0m \u001b[0mKeyError\u001b[0m \u001b[0;32mas\u001b[0m \u001b[0merr\u001b[0m\u001b[0;34m:\u001b[0m\u001b[0;34m\u001b[0m\u001b[0;34m\u001b[0m\u001b[0m\n",
            "\u001b[0;32mpandas/_libs/index.pyx\u001b[0m in \u001b[0;36mpandas._libs.index.IndexEngine.get_loc\u001b[0;34m()\u001b[0m\n",
            "\u001b[0;32mpandas/_libs/index.pyx\u001b[0m in \u001b[0;36mpandas._libs.index.IndexEngine.get_loc\u001b[0;34m()\u001b[0m\n",
            "\u001b[0;32mpandas/_libs/hashtable_class_helper.pxi\u001b[0m in \u001b[0;36mpandas._libs.hashtable.PyObjectHashTable.get_item\u001b[0;34m()\u001b[0m\n",
            "\u001b[0;32mpandas/_libs/hashtable_class_helper.pxi\u001b[0m in \u001b[0;36mpandas._libs.hashtable.PyObjectHashTable.get_item\u001b[0;34m()\u001b[0m\n",
            "\u001b[0;31mKeyError\u001b[0m: 'I'",
            "\nThe above exception was the direct cause of the following exception:\n",
            "\u001b[0;31mKeyError\u001b[0m                                  Traceback (most recent call last)",
            "\u001b[0;32m<ipython-input-198-61950a4b06d7>\u001b[0m in \u001b[0;36m<module>\u001b[0;34m()\u001b[0m\n\u001b[0;32m----> 1\u001b[0;31m \u001b[0mdf\u001b[0m\u001b[0;34m[\u001b[0m\u001b[0mdf\u001b[0m\u001b[0;34m[\u001b[0m\u001b[0;34m'I'\u001b[0m\u001b[0;34m]\u001b[0m\u001b[0;34m==\u001b[0m\u001b[0;36m33\u001b[0m\u001b[0;34m]\u001b[0m \u001b[0;31m# !!!!! меняйте номер кластера\u001b[0m\u001b[0;34m\u001b[0m\u001b[0;34m\u001b[0m\u001b[0m\n\u001b[0m",
            "\u001b[0;32m/usr/local/lib/python3.7/dist-packages/pandas/core/frame.py\u001b[0m in \u001b[0;36m__getitem__\u001b[0;34m(self, key)\u001b[0m\n\u001b[1;32m   2904\u001b[0m             \u001b[0;32mif\u001b[0m \u001b[0mself\u001b[0m\u001b[0;34m.\u001b[0m\u001b[0mcolumns\u001b[0m\u001b[0;34m.\u001b[0m\u001b[0mnlevels\u001b[0m \u001b[0;34m>\u001b[0m \u001b[0;36m1\u001b[0m\u001b[0;34m:\u001b[0m\u001b[0;34m\u001b[0m\u001b[0;34m\u001b[0m\u001b[0m\n\u001b[1;32m   2905\u001b[0m                 \u001b[0;32mreturn\u001b[0m \u001b[0mself\u001b[0m\u001b[0;34m.\u001b[0m\u001b[0m_getitem_multilevel\u001b[0m\u001b[0;34m(\u001b[0m\u001b[0mkey\u001b[0m\u001b[0;34m)\u001b[0m\u001b[0;34m\u001b[0m\u001b[0;34m\u001b[0m\u001b[0m\n\u001b[0;32m-> 2906\u001b[0;31m             \u001b[0mindexer\u001b[0m \u001b[0;34m=\u001b[0m \u001b[0mself\u001b[0m\u001b[0;34m.\u001b[0m\u001b[0mcolumns\u001b[0m\u001b[0;34m.\u001b[0m\u001b[0mget_loc\u001b[0m\u001b[0;34m(\u001b[0m\u001b[0mkey\u001b[0m\u001b[0;34m)\u001b[0m\u001b[0;34m\u001b[0m\u001b[0;34m\u001b[0m\u001b[0m\n\u001b[0m\u001b[1;32m   2907\u001b[0m             \u001b[0;32mif\u001b[0m \u001b[0mis_integer\u001b[0m\u001b[0;34m(\u001b[0m\u001b[0mindexer\u001b[0m\u001b[0;34m)\u001b[0m\u001b[0;34m:\u001b[0m\u001b[0;34m\u001b[0m\u001b[0;34m\u001b[0m\u001b[0m\n\u001b[1;32m   2908\u001b[0m                 \u001b[0mindexer\u001b[0m \u001b[0;34m=\u001b[0m \u001b[0;34m[\u001b[0m\u001b[0mindexer\u001b[0m\u001b[0;34m]\u001b[0m\u001b[0;34m\u001b[0m\u001b[0;34m\u001b[0m\u001b[0m\n",
            "\u001b[0;32m/usr/local/lib/python3.7/dist-packages/pandas/core/indexes/base.py\u001b[0m in \u001b[0;36mget_loc\u001b[0;34m(self, key, method, tolerance)\u001b[0m\n\u001b[1;32m   2898\u001b[0m                 \u001b[0;32mreturn\u001b[0m \u001b[0mself\u001b[0m\u001b[0;34m.\u001b[0m\u001b[0m_engine\u001b[0m\u001b[0;34m.\u001b[0m\u001b[0mget_loc\u001b[0m\u001b[0;34m(\u001b[0m\u001b[0mcasted_key\u001b[0m\u001b[0;34m)\u001b[0m\u001b[0;34m\u001b[0m\u001b[0;34m\u001b[0m\u001b[0m\n\u001b[1;32m   2899\u001b[0m             \u001b[0;32mexcept\u001b[0m \u001b[0mKeyError\u001b[0m \u001b[0;32mas\u001b[0m \u001b[0merr\u001b[0m\u001b[0;34m:\u001b[0m\u001b[0;34m\u001b[0m\u001b[0;34m\u001b[0m\u001b[0m\n\u001b[0;32m-> 2900\u001b[0;31m                 \u001b[0;32mraise\u001b[0m \u001b[0mKeyError\u001b[0m\u001b[0;34m(\u001b[0m\u001b[0mkey\u001b[0m\u001b[0;34m)\u001b[0m \u001b[0;32mfrom\u001b[0m \u001b[0merr\u001b[0m\u001b[0;34m\u001b[0m\u001b[0;34m\u001b[0m\u001b[0m\n\u001b[0m\u001b[1;32m   2901\u001b[0m \u001b[0;34m\u001b[0m\u001b[0m\n\u001b[1;32m   2902\u001b[0m         \u001b[0;32mif\u001b[0m \u001b[0mtolerance\u001b[0m \u001b[0;32mis\u001b[0m \u001b[0;32mnot\u001b[0m \u001b[0;32mNone\u001b[0m\u001b[0;34m:\u001b[0m\u001b[0;34m\u001b[0m\u001b[0;34m\u001b[0m\u001b[0m\n",
            "\u001b[0;31mKeyError\u001b[0m: 'I'"
          ]
        }
      ],
      "source": [
        "df[df['I']==33] # !!!!! меняйте номер кластера"
      ]
    },
    {
      "cell_type": "code",
      "execution_count": null,
      "metadata": {
        "id": "qaquDTd08KVD"
      },
      "outputs": [],
      "source": [
        "# строим кластеризаци методом KMeans\n",
        "km = KMeans(n_clusters=nClust1).fit(dataNorm1)"
      ]
    },
    {
      "cell_type": "code",
      "execution_count": null,
      "metadata": {
        "colab": {
          "base_uri": "https://localhost:8080/"
        },
        "id": "IVp_8k2d8k15",
        "outputId": "18621b96-7e0a-4b27-bdde-ad4d8e1f0fbe"
      },
      "outputs": [
        {
          "data": {
            "text/plain": [
              "array([ 3, 28,  4, 27, 34, 14, 18, 26, 10, 29, 11, 24,  6, 19, 15, 28, 23,\n",
              "        9, 22, 25, 12, 17,  8, 33, 31, 13,  5,  2, 30,  7, 32, 16, 21, 20,\n",
              "        1], dtype=int32)"
            ]
          },
          "execution_count": 116,
          "metadata": {
            "tags": []
          },
          "output_type": "execute_result"
        }
      ],
      "source": [
        "# выведем полученное распределение по кластерам\n",
        "# так же номер кластера, к котрому относится строка, так как нумерация начинается с нуля, выводим добавляя 1\n",
        "km.labels_ +1"
      ]
    },
    {
      "cell_type": "code",
      "execution_count": null,
      "metadata": {
        "colab": {
          "base_uri": "https://localhost:8080/",
          "height": 497
        },
        "id": "C_gPR-As8wWy",
        "outputId": "a9838d8b-ea46-4e87-c262-b2a9663656ba"
      },
      "outputs": [
        {
          "data": {
            "image/png": "[encoded data removed]",
            "text/plain": [
              "<Figure size 720x576 with 1 Axes>"
            ]
          },
          "metadata": {
            "needs_background": "light",
            "tags": []
          },
          "output_type": "display_data"
        }
      ],
      "source": [
        "x=0 # Чтобы построить диаграмму в разных осях, меняйте номера столбцов\n",
        "y=2 #\n",
        "centroids = km.cluster_centers_\n",
        "plt.figure(figsize=(10, 8))\n",
        "plt.scatter(dataNorm1[:,x], dataNorm1[:,y], c=km.labels_, cmap='flag')\n",
        "plt.scatter(centroids[:, x], centroids[:, y], marker='*', s=300,\n",
        "            c='r', label='centroid')\n",
        "plt.xlabel(col1[x])\n",
        "plt.ylabel(col1[y]);\n",
        "plt.show()"
      ]
    },
    {
      "cell_type": "code",
      "execution_count": null,
      "metadata": {
        "id": "0OMoYi2V806E"
      },
      "outputs": [],
      "source": [
        "#сохраним результаты в файл\n",
        "df.to_excel('result_claster.xlsx', index=False)"
      ]
    },
    {
      "cell_type": "code",
      "execution_count": null,
      "metadata": {
        "colab": {
          "base_uri": "https://localhost:8080/",
          "height": 730
        },
        "id": "SYdBQ6_FtNG5",
        "outputId": "d5ff8501-b95f-418d-f4f5-4aa40fcf428f"
      },
      "outputs": [
        {
          "data": {
            "image/png": "[encoded data removed]",
            "text/plain": [
              "<Figure size 720x720 with 4 Axes>"
            ]
          },
          "metadata": {
            "needs_background": "light",
            "tags": []
          },
          "output_type": "display_data"
        }
      ],
      "source": [
        "sns.clustermap(df, metric=\"correlation\", method=\"single\", cmap=\"Blues\", standard_scale=1)\n",
        "plt.show()"
      ]
    },
    {
      "cell_type": "code",
      "execution_count": null,
      "metadata": {
        "colab": {
          "base_uri": "https://localhost:8080/",
          "height": 1000
        },
        "id": "gMFGt8CQxdh-",
        "outputId": "048d58fb-35d4-4ac7-811b-a062592e0732"
      },
      "outputs": [
        {
          "data": {
            "image/png": "[encoded data removed]",
            "text/plain": [
              "<Figure size 1584x1584 with 4 Axes>"
            ]
          },
          "metadata": {
            "needs_background": "light",
            "tags": []
          },
          "output_type": "display_data"
        }
      ],
      "source": [
        "sns.clustermap(df1, metric=\"correlation\", figsize=(22, 22), method=\"single\", cmap=\"Blues\", standard_scale=1)\n",
        "plt.savefig(\"clustmap2.png\", dpi = 300)\n",
        "plt.show()"
      ]
    }
  ],
  "metadata": {
    "colab": {
      "collapsed_sections": [],
      "name": "KLASTERIZACJA.ipynb",
      "provenance": []
    },
    "kernelspec": {
      "display_name": "Python 3",
      "name": "python3"
    },
    "language_info": {
      "name": "python"
    }
  },
  "nbformat": 4,
  "nbformat_minor": 0
}
